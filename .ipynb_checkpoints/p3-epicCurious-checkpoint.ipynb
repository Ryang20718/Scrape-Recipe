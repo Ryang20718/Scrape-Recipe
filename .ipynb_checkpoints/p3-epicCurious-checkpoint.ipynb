{
 "cells": [
  {
   "cell_type": "code",
   "execution_count": 1,
   "metadata": {},
   "outputs": [],
   "source": [
    "import os\n",
    "import time\n",
    "import datetime as dt\n",
    "from datetime import datetime\n",
    "from multiprocessing import Pool\n",
    "from recipe_scrapers import scrap_me\n",
    "\n",
    "from time import sleep, time\n",
    "from random import randint, choice\n",
    "import requests\n",
    "import urllib\n",
    "from bs4 import BeautifulSoup\n",
    "import csv\n",
    "import re"
   ]
  },
  {
   "cell_type": "code",
   "execution_count": 2,
   "metadata": {},
   "outputs": [],
   "source": [
    "# OS\n",
    "NOW           = dt.datetime.now()\n",
    "FILE_NAME     = 'recipe.csv'\n",
    "DATASET_FOLDER = 'input/csv_files/'\n",
    "IMGS_FOLDER  = 'input/images/search_thumbnails/'\n",
    "\n",
    "# Chefkoch.de Seite\n",
    "CHEFKOCH_URL  = 'http://www.chefkoch.de'\n",
    "START_URL     = 'http://www.chefkoch.de/rs/s'\n",
    "CATEGORY      = '/Rezepte.html'"
   ]
  },
  {
   "cell_type": "code",
   "execution_count": 3,
   "metadata": {},
   "outputs": [],
   "source": [
    "desktop_agents = ['Mozilla/5.0 (Windows NT 6.1; WOW64) AppleWebKit/537.36 (KHTML, like Gecko) Chrome/54.0.2840.99 Safari/537.36',\n",
    "                 'Mozilla/5.0 (Windows NT 10.0; WOW64) AppleWebKit/537.36 (KHTML, like Gecko) Chrome/54.0.2840.99 Safari/537.36',\n",
    "                 'Mozilla/5.0 (Windows NT 10.0; Win64; x64) AppleWebKit/537.36 (KHTML, like Gecko) Chrome/54.0.2840.99 Safari/537.36',\n",
    "                 'Mozilla/5.0 (Macintosh; Intel Mac OS X 10_12_1) AppleWebKit/602.2.14 (KHTML, like Gecko) Version/10.0.1 Safari/602.2.14',\n",
    "                 'Mozilla/5.0 (Windows NT 10.0; WOW64) AppleWebKit/537.36 (KHTML, like Gecko) Chrome/54.0.2840.71 Safari/537.36',\n",
    "                 'Mozilla/5.0 (Macintosh; Intel Mac OS X 10_12_1) AppleWebKit/537.36 (KHTML, like Gecko) Chrome/54.0.2840.98 Safari/537.36',\n",
    "                 'Mozilla/5.0 (Macintosh; Intel Mac OS X 10_11_6) AppleWebKit/537.36 (KHTML, like Gecko) Chrome/54.0.2840.98 Safari/537.36',\n",
    "                 'Mozilla/5.0 (Windows NT 6.1; WOW64) AppleWebKit/537.36 (KHTML, like Gecko) Chrome/54.0.2840.71 Safari/537.36',\n",
    "                 'Mozilla/5.0 (Windows NT 6.1; Win64; x64) AppleWebKit/537.36 (KHTML, like Gecko) Chrome/54.0.2840.99 Safari/537.36',\n",
    "                 'Mozilla/5.0 (Windows NT 10.0; WOW64; rv:50.0) Gecko/20100101 Firefox/50.0']\n",
    "\n",
    "def random_headers():\n",
    "    return {'User-Agent': choice(desktop_agents),'Accept':'text/html,application/xhtml+xml,application/xml;q=0.9,image/webp,*/*;q=0.8'}"
   ]
  },
  {
   "cell_type": "code",
   "execution_count": 4,
   "metadata": {},
   "outputs": [],
   "source": [
    "def _get_html(url):\n",
    "    page = ''\n",
    "    while page == '':\n",
    "        try:\n",
    "            page = requests.get(url, headers=random_headers())\n",
    "        except:\n",
    "            print('Connection refused')\n",
    "            time.sleep(10)\n",
    "            continue\n",
    "    return page.text\n",
    "\n"
   ]
  },
  {
   "cell_type": "code",
   "execution_count": 15,
   "metadata": {},
   "outputs": [
    {
     "name": "stdout",
     "output_type": "stream",
     "text": [
      "https://assets.epicurious.com/photos/5d15106f57a677000818f13b/6:4/w_620%2Ch_413/mai-tai-rum-babas-recipe-HC-062719.jpg\n"
     ]
    },
    {
     "data": {
      "text/plain": [
       "\"\\nfor page in range(1,2357): #total page count in food republc\\n    link = 'https://www.epicurious.com/search/?page=' + str(page)\\n    _get_links(_get_html(link))\\n    \""
      ]
     },
     "execution_count": 15,
     "metadata": {},
     "output_type": "execute_result"
    }
   ],
   "source": [
    "from recipe_scrapers import scrap_me\n",
    "import urllib.request\n",
    "from random import randint \n",
    "\n",
    "num = 1\n",
    "\n",
    "def _scrape_instructions(raw_link):\n",
    "    link = _get_html(raw_link)\n",
    "    scrap = scrap_me(raw_link)\n",
    "    \n",
    "    data = {'title' : scrap.title(),\n",
    "    'preparation_time' : scrap.total_time(),\n",
    "    'img_link' : _get_images(link),\n",
    "    'ingredients' : scrap.ingredients()}\n",
    "    \n",
    "    if(data['ingredients'] == None or data['img_link']  == None):\n",
    "        return\n",
    "    \n",
    "    img_path = os.path.join(os.getcwd(),'img')\n",
    "    download_path = os.path.join(img_path,data['title'])\n",
    "    if not os.path.exists(download_path):\n",
    "        os.makedirs(download_path)\n",
    "    try:\n",
    "        urllib.request.urlretrieve(str(data['img_link']), download_path + '/'  + str(randint(1,10000)) + '.jpg' ) #download img to specific folder\n",
    "    except:\n",
    "        pass\n",
    "    _write_to_recipes(data)\n",
    "\n",
    "    \n",
    "def _write_to_recipes(data):\n",
    "    path = os.path.join(os.getcwd(),'food.csv')\n",
    "    with open(path, 'a') as f:\n",
    "        writer = csv.writer(f)\n",
    "        try:\n",
    "            writer.writerow((data['title'],\n",
    "                            data['preparation_time'],\n",
    "                            data['img_link'],\n",
    "                            data['ingredients']))\n",
    "        except:\n",
    "            pass\n",
    "    f.close()\n",
    "\n",
    "        \n",
    "def _get_images(html):\n",
    "    soup = BeautifulSoup(html, 'lxml')\n",
    "    try:\n",
    "        img = soup.find('picture', class_='photo-wrap').find('source')['srcset']\n",
    "        return(img)\n",
    "    except:\n",
    "        pass\n",
    "    \n",
    "    \n",
    "def _get_ingredients(html):\n",
    "    soup = BeautifulSoup(html, 'lxml')\n",
    "    try:\n",
    "        #all_ingredients = soup.find('blockquote').find('p').text.split('\\n')\n",
    "        return(all_ingredients)\n",
    "    except:\n",
    "        pass\n",
    "    #print( tot)\n",
    "\n",
    "\n",
    "\n",
    "def _get_links(html):\n",
    "    soup = BeautifulSoup(html, 'lxml')\n",
    "    links = soup.find_all('a', class_='show-quick-view')#get all links\n",
    "    for individual in links:\n",
    "        href = 'https://www.epicurious.com' + individual['href']\n",
    "        _scrape_instructions(href)\n",
    "\n",
    "for page in range(1,2357): #total page count in food republc\n",
    "    link = 'https://www.epicurious.com/search/?page=' + str(page)\n",
    "    _get_links(_get_html(link))\n",
    "    \n",
    "    \n",
    "    "
   ]
  },
  {
   "cell_type": "code",
   "execution_count": 44,
   "metadata": {},
   "outputs": [
    {
     "name": "stdout",
     "output_type": "stream",
     "text": [
      "--- 9.012222290039062e-05 seconds ---\n"
     ]
    }
   ],
   "source": [
    "start_time = time()\n",
    "\n",
    "\n",
    "'''\n",
    "all_links = _get_links(_get_html('https://www.weightwatchers.com/us/recipe'))\n",
    "(_get_html(all_links[5]))\n",
    "\n",
    "for link in range(3,len(all_links)):\n",
    "    sub = _get_links(_get_html(all_links[link]))\n",
    "    for individual in sub:\n",
    "        _get_data(_get_html(individual))\n",
    "    #print(len(_get_images(_get_html(link))))\n",
    "'''\n",
    "\n",
    "print(\"--- %s seconds ---\" % (time() - start_time))"
   ]
  },
  {
   "cell_type": "code",
   "execution_count": null,
   "metadata": {},
   "outputs": [],
   "source": []
  }
 ],
 "metadata": {
  "kernelspec": {
   "display_name": "Python 3",
   "language": "python",
   "name": "python3"
  },
  "language_info": {
   "codemirror_mode": {
    "name": "ipython",
    "version": 3
   },
   "file_extension": ".py",
   "mimetype": "text/x-python",
   "name": "python",
   "nbconvert_exporter": "python",
   "pygments_lexer": "ipython3",
   "version": "3.7.3"
  }
 },
 "nbformat": 4,
 "nbformat_minor": 2
}
