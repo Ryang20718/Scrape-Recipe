{
 "cells": [
  {
   "cell_type": "markdown",
   "metadata": {},
   "source": [
    "# scrape"
   ]
  },
  {
   "cell_type": "code",
   "execution_count": 1,
   "metadata": {},
   "outputs": [],
   "source": [
    "import os\n",
    "import time\n",
    "import datetime as dt\n",
    "from datetime import datetime\n",
    "from multiprocessing import Pool\n",
    "from recipe_scrapers import scrap_me\n",
    "\n",
    "from time import sleep, time\n",
    "from random import randint, choice\n",
    "import requests\n",
    "import urllib\n",
    "from bs4 import BeautifulSoup\n",
    "import csv\n",
    "import re"
   ]
  },
  {
   "cell_type": "code",
   "execution_count": 2,
   "metadata": {},
   "outputs": [],
   "source": [
    "# OS\n",
    "NOW           = dt.datetime.now()\n",
    "FILE_NAME     = 'recipe.csv'\n",
    "DATASET_FOLDER = 'input/csv_files/'\n",
    "IMGS_FOLDER  = 'input/images/search_thumbnails/'\n",
    "\n",
    "# Chefkoch.de Seite\n",
    "CHEFKOCH_URL  = 'http://www.chefkoch.de'\n",
    "START_URL     = 'http://www.chefkoch.de/rs/s'\n",
    "CATEGORY      = '/Rezepte.html'"
   ]
  },
  {
   "cell_type": "code",
   "execution_count": 3,
   "metadata": {},
   "outputs": [],
   "source": [
    "desktop_agents = ['Mozilla/5.0 (Windows NT 6.1; WOW64) AppleWebKit/537.36 (KHTML, like Gecko) Chrome/54.0.2840.99 Safari/537.36',\n",
    "                 'Mozilla/5.0 (Windows NT 10.0; WOW64) AppleWebKit/537.36 (KHTML, like Gecko) Chrome/54.0.2840.99 Safari/537.36',\n",
    "                 'Mozilla/5.0 (Windows NT 10.0; Win64; x64) AppleWebKit/537.36 (KHTML, like Gecko) Chrome/54.0.2840.99 Safari/537.36',\n",
    "                 'Mozilla/5.0 (Macintosh; Intel Mac OS X 10_12_1) AppleWebKit/602.2.14 (KHTML, like Gecko) Version/10.0.1 Safari/602.2.14',\n",
    "                 'Mozilla/5.0 (Windows NT 10.0; WOW64) AppleWebKit/537.36 (KHTML, like Gecko) Chrome/54.0.2840.71 Safari/537.36',\n",
    "                 'Mozilla/5.0 (Macintosh; Intel Mac OS X 10_12_1) AppleWebKit/537.36 (KHTML, like Gecko) Chrome/54.0.2840.98 Safari/537.36',\n",
    "                 'Mozilla/5.0 (Macintosh; Intel Mac OS X 10_11_6) AppleWebKit/537.36 (KHTML, like Gecko) Chrome/54.0.2840.98 Safari/537.36',\n",
    "                 'Mozilla/5.0 (Windows NT 6.1; WOW64) AppleWebKit/537.36 (KHTML, like Gecko) Chrome/54.0.2840.71 Safari/537.36',\n",
    "                 'Mozilla/5.0 (Windows NT 6.1; Win64; x64) AppleWebKit/537.36 (KHTML, like Gecko) Chrome/54.0.2840.99 Safari/537.36',\n",
    "                 'Mozilla/5.0 (Windows NT 10.0; WOW64; rv:50.0) Gecko/20100101 Firefox/50.0']\n",
    "\n",
    "def random_headers():\n",
    "    return {'User-Agent': choice(desktop_agents),'Accept':'text/html,application/xhtml+xml,application/xml;q=0.9,image/webp,*/*;q=0.8'}"
   ]
  },
  {
   "cell_type": "code",
   "execution_count": 4,
   "metadata": {},
   "outputs": [],
   "source": [
    "category_url = START_URL + '0o3' + CATEGORY\n",
    "\n",
    "def _get_html(url):\n",
    "    page = ''\n",
    "    while page == '':\n",
    "        try:\n",
    "            page = requests.get(url, headers=random_headers())\n",
    "        except:\n",
    "            print('Connection refused')\n",
    "            time.sleep(10)\n",
    "            continue\n",
    "    return page.text\n",
    "\n",
    "def _get_total_pages(html):\n",
    "    soup = BeautifulSoup(html, 'lxml')\n",
    "   #print(soup.prettify())\n",
    "    total_pages = soup.find('div', class_='ck-pagination qa-pagination').find('a', class_='qa-pagination-pagelink-last').text\n",
    "    print(total_pages)\n",
    "    #return int(total_pages)\n",
    "\n",
    "\n",
    "#print('Total pages: ', total_pages)"
   ]
  },
  {
   "cell_type": "code",
   "execution_count": 5,
   "metadata": {},
   "outputs": [
    {
     "ename": "UnboundLocalError",
     "evalue": "local variable 'scrap_me' referenced before assignment",
     "output_type": "error",
     "traceback": [
      "\u001b[0;31m---------------------------------------------------------------------------\u001b[0m",
      "\u001b[0;31mUnboundLocalError\u001b[0m                         Traceback (most recent call last)",
      "\u001b[0;32m<ipython-input-5-7d65916ccb7e>\u001b[0m in \u001b[0;36m<module>\u001b[0;34m\u001b[0m\n\u001b[1;32m     65\u001b[0m     \u001b[0m_write_to_recipes\u001b[0m\u001b[0;34m(\u001b[0m\u001b[0mdata\u001b[0m\u001b[0;34m)\u001b[0m\u001b[0;34m\u001b[0m\u001b[0;34m\u001b[0m\u001b[0m\n\u001b[1;32m     66\u001b[0m \u001b[0;34m\u001b[0m\u001b[0m\n\u001b[0;32m---> 67\u001b[0;31m \u001b[0m_get_links\u001b[0m\u001b[0;34m(\u001b[0m\u001b[0m_get_html\u001b[0m\u001b[0;34m(\u001b[0m\u001b[0;34m'https://www.101cookbooks.com/archives.html'\u001b[0m\u001b[0;34m)\u001b[0m\u001b[0;34m)\u001b[0m\u001b[0;34m\u001b[0m\u001b[0;34m\u001b[0m\u001b[0m\n\u001b[0m",
      "\u001b[0;32m<ipython-input-5-7d65916ccb7e>\u001b[0m in \u001b[0;36m_get_links\u001b[0;34m(html)\u001b[0m\n\u001b[1;32m     29\u001b[0m         \u001b[0mhref\u001b[0m \u001b[0;34m=\u001b[0m \u001b[0mindividual\u001b[0m\u001b[0;34m.\u001b[0m\u001b[0mfind\u001b[0m\u001b[0;34m(\u001b[0m\u001b[0;34m'a'\u001b[0m\u001b[0;34m)\u001b[0m\u001b[0;34m[\u001b[0m\u001b[0;34m'href'\u001b[0m\u001b[0;34m]\u001b[0m\u001b[0;34m\u001b[0m\u001b[0;34m\u001b[0m\u001b[0m\n\u001b[1;32m     30\u001b[0m         \u001b[0murlArray\u001b[0m\u001b[0;34m.\u001b[0m\u001b[0mappend\u001b[0m\u001b[0;34m(\u001b[0m\u001b[0mhref\u001b[0m\u001b[0;34m)\u001b[0m\u001b[0;34m\u001b[0m\u001b[0;34m\u001b[0m\u001b[0m\n\u001b[0;32m---> 31\u001b[0;31m         \u001b[0mscrap_me\u001b[0m \u001b[0;34m=\u001b[0m \u001b[0mscrap_me\u001b[0m\u001b[0;34m(\u001b[0m\u001b[0mhref\u001b[0m\u001b[0;34m)\u001b[0m\u001b[0;34m\u001b[0m\u001b[0;34m\u001b[0m\u001b[0m\n\u001b[0m\u001b[1;32m     32\u001b[0m \u001b[0;34m\u001b[0m\u001b[0m\n\u001b[1;32m     33\u001b[0m         \u001b[0mscrap_me\u001b[0m\u001b[0;34m.\u001b[0m\u001b[0mtitle\u001b[0m\u001b[0;34m(\u001b[0m\u001b[0;34m)\u001b[0m\u001b[0;34m\u001b[0m\u001b[0;34m\u001b[0m\u001b[0m\n",
      "\u001b[0;31mUnboundLocalError\u001b[0m: local variable 'scrap_me' referenced before assignment"
     ]
    }
   ],
   "source": [
    "def _write_to_recipes(data):\n",
    "    path = FILE_NAME\n",
    "    with open(path, 'a') as f:\n",
    "        writer = csv.writer(f)\n",
    "        try:\n",
    "            writer.writerow((data['recipe_id'],\n",
    "                            data['recipe_name'],\n",
    "                            data['average_rating'],\n",
    "                            data['stars_shown'],\n",
    "                            data['votes'],\n",
    "                            data['difficulty'],\n",
    "                            data['preparation_time'],\n",
    "                            data['date'],\n",
    "                            data['link'],\n",
    "                            data['has_picture']))\n",
    "        except:\n",
    "            pass\n",
    "\n",
    "        \n",
    "def _get_images(html):\n",
    "    soup = BeautifulSoup(html, 'lxml')\n",
    "    \n",
    "\n",
    "def _get_links(html):\n",
    "    urlArray = []\n",
    "    soup = BeautifulSoup(html, 'lxml')\n",
    "    links = soup.find_all('div', class_='archiverecipe')#get all links\n",
    "    for individual in links:\n",
    "        href = individual.find('a')['href']\n",
    "        urlArray.append(href)\n",
    "        scrap_me = scrap_me(href)\n",
    "\n",
    "        scrap_me.title()\n",
    "        scrap_me.total_time()\n",
    "        scrap_me.ingredients()\n",
    "        scrap_me.instructions()\n",
    "        break\n",
    "\n",
    "def _get_data(html): \n",
    "    soup = BeautifulSoup(html, 'lxml')\n",
    "    #name\n",
    "    try:\n",
    "        name = soup.find('h1', class_='typog-headline4___Alhic').find('span').text\n",
    "    except:\n",
    "        name = ''\n",
    "    # difficulty\n",
    "    try:\n",
    "        difficulty = soup.find_all('div', class_='typog-bodycopySmall___DIQrd value___1j1Hl')[4].find('div').text\n",
    "    except:\n",
    "        difficulty = ''\n",
    "    try:\n",
    "        preptime = soup.find_all('div', class_='typog-bodycopySmall___DIQrd value___1j1Hl')[1].find('div').text\n",
    "    except:\n",
    "        preptime = ''\n",
    "    data = {'recipe_id' : '',\n",
    "        'recipe_name' : name,\n",
    "        'average_rating': '',\n",
    "        'stars_shown' : '',\n",
    "        'votes' : '',\n",
    "        'difficulty' : difficulty,\n",
    "        'preparation_time' : preptime,\n",
    "        'has_picture' : '',\n",
    "        'date' : '',\n",
    "        'link' : ''}\n",
    "    _write_to_recipes(data)\n",
    "\n",
    "_get_links(_get_html('https://www.101cookbooks.com/archives.html'))"
   ]
  },
  {
   "cell_type": "code",
   "execution_count": 6,
   "metadata": {},
   "outputs": [
    {
     "name": "stdout",
     "output_type": "stream",
     "text": [
      "--- 9.29832458496e-05 seconds ---\n"
     ]
    }
   ],
   "source": [
    "start_time = time()\n",
    "\n",
    "\n",
    "'''\n",
    "all_links = _get_links(_get_html('https://www.weightwatchers.com/us/recipe'))\n",
    "(_get_html(all_links[5]))\n",
    "\n",
    "for link in range(3,len(all_links)):\n",
    "    sub = _get_links(_get_html(all_links[link]))\n",
    "    for individual in sub:\n",
    "        _get_data(_get_html(individual))\n",
    "    #print(len(_get_images(_get_html(link))))\n",
    "'''\n",
    "\n",
    "print(\"--- %s seconds ---\" % (time() - start_time))"
   ]
  },
  {
   "cell_type": "code",
   "execution_count": 237,
   "metadata": {},
   "outputs": [
    {
     "name": "stdout",
     "output_type": "stream",
     "text": [
      "    0                                                  1   2   3   4     5  \\\n",
      "0 NaN                             Tex-Mex Scrambled Eggs NaN NaN NaN  Easy   \n",
      "1 NaN  Baked Eggs with Delicata Squash, Spinach and Feta NaN NaN NaN  Easy   \n",
      "2 NaN             Greek Yogurt with Warm Blueberry Sauce NaN NaN NaN  Easy   \n",
      "3 NaN                   Individual Shakshouka Baked Eggs NaN NaN NaN  Easy   \n",
      "4 NaN           Peanutty Vanilla Yogurt with Blueberries NaN NaN NaN   NaN   \n",
      "\n",
      "        6   7   8   9  \n",
      "0  18 min NaN NaN NaN  \n",
      "1  25 min NaN NaN NaN  \n",
      "2   8 min NaN NaN NaN  \n",
      "3  20 min NaN NaN NaN  \n",
      "4     NaN NaN NaN NaN  \n"
     ]
    }
   ],
   "source": [
    "import pandas as pd\n",
    "output = pd.read_csv('recipe.csv', header=None)\n",
    "print(output.head())"
   ]
  },
  {
   "cell_type": "code",
   "execution_count": 241,
   "metadata": {},
   "outputs": [],
   "source": [
    "output.columns = ['recipe_id', 'recipe_name', 'average_rating',\n",
    "                        'stars_shown', 'votes', 'difficulty', 'preparation_time',\n",
    "                        'date', 'link', 'has_picture']"
   ]
  },
  {
   "cell_type": "code",
   "execution_count": 242,
   "metadata": {},
   "outputs": [
    {
     "data": {
      "text/html": [
       "<div>\n",
       "<style scoped>\n",
       "    .dataframe tbody tr th:only-of-type {\n",
       "        vertical-align: middle;\n",
       "    }\n",
       "\n",
       "    .dataframe tbody tr th {\n",
       "        vertical-align: top;\n",
       "    }\n",
       "\n",
       "    .dataframe thead th {\n",
       "        text-align: right;\n",
       "    }\n",
       "</style>\n",
       "<table border=\"1\" class=\"dataframe\">\n",
       "  <thead>\n",
       "    <tr style=\"text-align: right;\">\n",
       "      <th></th>\n",
       "      <th>recipe_id</th>\n",
       "      <th>recipe_name</th>\n",
       "      <th>average_rating</th>\n",
       "      <th>stars_shown</th>\n",
       "      <th>votes</th>\n",
       "      <th>difficulty</th>\n",
       "      <th>preparation_time</th>\n",
       "      <th>date</th>\n",
       "      <th>link</th>\n",
       "      <th>has_picture</th>\n",
       "    </tr>\n",
       "  </thead>\n",
       "  <tbody>\n",
       "    <tr>\n",
       "      <th>0</th>\n",
       "      <td>NaN</td>\n",
       "      <td>Tex-Mex Scrambled Eggs</td>\n",
       "      <td>NaN</td>\n",
       "      <td>NaN</td>\n",
       "      <td>NaN</td>\n",
       "      <td>Easy</td>\n",
       "      <td>18 min</td>\n",
       "      <td>NaN</td>\n",
       "      <td>NaN</td>\n",
       "      <td>NaN</td>\n",
       "    </tr>\n",
       "    <tr>\n",
       "      <th>1</th>\n",
       "      <td>NaN</td>\n",
       "      <td>Baked Eggs with Delicata Squash, Spinach and Feta</td>\n",
       "      <td>NaN</td>\n",
       "      <td>NaN</td>\n",
       "      <td>NaN</td>\n",
       "      <td>Easy</td>\n",
       "      <td>25 min</td>\n",
       "      <td>NaN</td>\n",
       "      <td>NaN</td>\n",
       "      <td>NaN</td>\n",
       "    </tr>\n",
       "    <tr>\n",
       "      <th>2</th>\n",
       "      <td>NaN</td>\n",
       "      <td>Greek Yogurt with Warm Blueberry Sauce</td>\n",
       "      <td>NaN</td>\n",
       "      <td>NaN</td>\n",
       "      <td>NaN</td>\n",
       "      <td>Easy</td>\n",
       "      <td>8 min</td>\n",
       "      <td>NaN</td>\n",
       "      <td>NaN</td>\n",
       "      <td>NaN</td>\n",
       "    </tr>\n",
       "    <tr>\n",
       "      <th>3</th>\n",
       "      <td>NaN</td>\n",
       "      <td>Individual Shakshouka Baked Eggs</td>\n",
       "      <td>NaN</td>\n",
       "      <td>NaN</td>\n",
       "      <td>NaN</td>\n",
       "      <td>Easy</td>\n",
       "      <td>20 min</td>\n",
       "      <td>NaN</td>\n",
       "      <td>NaN</td>\n",
       "      <td>NaN</td>\n",
       "    </tr>\n",
       "    <tr>\n",
       "      <th>4</th>\n",
       "      <td>NaN</td>\n",
       "      <td>Peanutty Vanilla Yogurt with Blueberries</td>\n",
       "      <td>NaN</td>\n",
       "      <td>NaN</td>\n",
       "      <td>NaN</td>\n",
       "      <td>NaN</td>\n",
       "      <td>NaN</td>\n",
       "      <td>NaN</td>\n",
       "      <td>NaN</td>\n",
       "      <td>NaN</td>\n",
       "    </tr>\n",
       "  </tbody>\n",
       "</table>\n",
       "</div>"
      ],
      "text/plain": [
       "   recipe_id                                        recipe_name  \\\n",
       "0        NaN                             Tex-Mex Scrambled Eggs   \n",
       "1        NaN  Baked Eggs with Delicata Squash, Spinach and Feta   \n",
       "2        NaN             Greek Yogurt with Warm Blueberry Sauce   \n",
       "3        NaN                   Individual Shakshouka Baked Eggs   \n",
       "4        NaN           Peanutty Vanilla Yogurt with Blueberries   \n",
       "\n",
       "   average_rating  stars_shown  votes difficulty preparation_time  date  link  \\\n",
       "0             NaN          NaN    NaN       Easy           18 min   NaN   NaN   \n",
       "1             NaN          NaN    NaN       Easy           25 min   NaN   NaN   \n",
       "2             NaN          NaN    NaN       Easy            8 min   NaN   NaN   \n",
       "3             NaN          NaN    NaN       Easy           20 min   NaN   NaN   \n",
       "4             NaN          NaN    NaN        NaN              NaN   NaN   NaN   \n",
       "\n",
       "   has_picture  \n",
       "0          NaN  \n",
       "1          NaN  \n",
       "2          NaN  \n",
       "3          NaN  \n",
       "4          NaN  "
      ]
     },
     "execution_count": 242,
     "metadata": {},
     "output_type": "execute_result"
    }
   ],
   "source": [
    "output.head()"
   ]
  },
  {
   "cell_type": "code",
   "execution_count": null,
   "metadata": {},
   "outputs": [],
   "source": [
    "import os\n",
    "path = 'input/images/search_thumbnails/'\n",
    "files = os.listdir(path)\n",
    "i = 1\n",
    "for file in files:\n",
    "    filename, file_extension = os.path.splitext(file)\n",
    "    os.rename(os.path.join(path, file), os.path.join(path, filename + '-0' + file_extension))\n",
    "    print('renamed: ', i)\n",
    "    i = i+1"
   ]
  },
  {
   "cell_type": "markdown",
   "metadata": {},
   "source": [
    "# Weiter gehts mit Teil 2: 02_rezepte_details.ipynb"
   ]
  }
 ],
 "metadata": {
  "kernelspec": {
   "display_name": "Python 3",
   "language": "python",
   "name": "python3"
  },
  "language_info": {
   "codemirror_mode": {
    "name": "ipython",
    "version": 3
   },
   "file_extension": ".py",
   "mimetype": "text/x-python",
   "name": "python",
   "nbconvert_exporter": "python",
   "pygments_lexer": "ipython3",
   "version": "3.7.3"
  }
 },
 "nbformat": 4,
 "nbformat_minor": 2
}
