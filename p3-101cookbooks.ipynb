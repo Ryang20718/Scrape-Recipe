{
 "cells": [
  {
   "cell_type": "code",
   "execution_count": 1,
   "metadata": {},
   "outputs": [],
   "source": [
    "import os\n",
    "import time\n",
    "import datetime as dt\n",
    "from datetime import datetime\n",
    "from multiprocessing import Pool\n",
    "from recipe_scrapers import scrap_me\n",
    "\n",
    "from time import sleep, time\n",
    "from random import randint, choice\n",
    "import requests\n",
    "import urllib\n",
    "from bs4 import BeautifulSoup\n",
    "import csv\n",
    "import re"
   ]
  },
  {
   "cell_type": "code",
   "execution_count": 2,
   "metadata": {},
   "outputs": [],
   "source": [
    "# OS\n",
    "NOW           = dt.datetime.now()\n",
    "FILE_NAME     = 'recipe.csv'\n",
    "DATASET_FOLDER = 'input/csv_files/'\n",
    "IMGS_FOLDER  = 'input/images/search_thumbnails/'\n",
    "\n",
    "# Chefkoch.de Seite\n",
    "CHEFKOCH_URL  = 'http://www.chefkoch.de'\n",
    "START_URL     = 'http://www.chefkoch.de/rs/s'\n",
    "CATEGORY      = '/Rezepte.html'"
   ]
  },
  {
   "cell_type": "code",
   "execution_count": 3,
   "metadata": {},
   "outputs": [],
   "source": [
    "desktop_agents = ['Mozilla/5.0 (Windows NT 6.1; WOW64) AppleWebKit/537.36 (KHTML, like Gecko) Chrome/54.0.2840.99 Safari/537.36',\n",
    "                 'Mozilla/5.0 (Windows NT 10.0; WOW64) AppleWebKit/537.36 (KHTML, like Gecko) Chrome/54.0.2840.99 Safari/537.36',\n",
    "                 'Mozilla/5.0 (Windows NT 10.0; Win64; x64) AppleWebKit/537.36 (KHTML, like Gecko) Chrome/54.0.2840.99 Safari/537.36',\n",
    "                 'Mozilla/5.0 (Macintosh; Intel Mac OS X 10_12_1) AppleWebKit/602.2.14 (KHTML, like Gecko) Version/10.0.1 Safari/602.2.14',\n",
    "                 'Mozilla/5.0 (Windows NT 10.0; WOW64) AppleWebKit/537.36 (KHTML, like Gecko) Chrome/54.0.2840.71 Safari/537.36',\n",
    "                 'Mozilla/5.0 (Macintosh; Intel Mac OS X 10_12_1) AppleWebKit/537.36 (KHTML, like Gecko) Chrome/54.0.2840.98 Safari/537.36',\n",
    "                 'Mozilla/5.0 (Macintosh; Intel Mac OS X 10_11_6) AppleWebKit/537.36 (KHTML, like Gecko) Chrome/54.0.2840.98 Safari/537.36',\n",
    "                 'Mozilla/5.0 (Windows NT 6.1; WOW64) AppleWebKit/537.36 (KHTML, like Gecko) Chrome/54.0.2840.71 Safari/537.36',\n",
    "                 'Mozilla/5.0 (Windows NT 6.1; Win64; x64) AppleWebKit/537.36 (KHTML, like Gecko) Chrome/54.0.2840.99 Safari/537.36',\n",
    "                 'Mozilla/5.0 (Windows NT 10.0; WOW64; rv:50.0) Gecko/20100101 Firefox/50.0']\n",
    "\n",
    "def random_headers():\n",
    "    return {'User-Agent': choice(desktop_agents),'Accept':'text/html,application/xhtml+xml,application/xml;q=0.9,image/webp,*/*;q=0.8'}"
   ]
  },
  {
   "cell_type": "code",
   "execution_count": 4,
   "metadata": {},
   "outputs": [],
   "source": [
    "category_url = START_URL + '0o3' + CATEGORY\n",
    "\n",
    "def _get_html(url):\n",
    "    page = ''\n",
    "    while page == '':\n",
    "        try:\n",
    "            page = requests.get(url, headers=random_headers())\n",
    "        except:\n",
    "            print('Connection refused')\n",
    "            time.sleep(10)\n",
    "            continue\n",
    "    return page.text\n",
    "\n",
    "def _get_total_pages(html):\n",
    "    soup = BeautifulSoup(html, 'lxml')\n",
    "   #print(soup.prettify())\n",
    "    total_pages = soup.find('div', class_='ck-pagination qa-pagination').find('a', class_='qa-pagination-pagelink-last').text\n",
    "    print(total_pages)\n",
    "    #return int(total_pages)\n",
    "\n",
    "\n",
    "#print('Total pages: ', total_pages)"
   ]
  },
  {
   "cell_type": "code",
   "execution_count": 7,
   "metadata": {},
   "outputs": [
    {
     "name": "stdout",
     "output_type": "stream",
     "text": [
      "https://www.101cookbooks.com/curry-paste-recipe/\n"
     ]
    }
   ],
   "source": [
    "def _write_to_recipes(data):\n",
    "    path = FILE_NAME\n",
    "    with open(path, 'a') as f:\n",
    "        writer = csv.writer(f)\n",
    "        try:\n",
    "            writer.writerow((data['recipe_id'],\n",
    "                            data['recipe_name'],\n",
    "                            data['average_rating'],\n",
    "                            data['stars_shown'],\n",
    "                            data['votes'],\n",
    "                            data['difficulty'],\n",
    "                            data['preparation_time'],\n",
    "                            data['date'],\n",
    "                            data['link'],\n",
    "                            data['has_picture']))\n",
    "        except:\n",
    "            pass\n",
    "\n",
    "        \n",
    "def _get_images(html):\n",
    "    soup = BeautifulSoup(html, 'lxml')\n",
    "    \n",
    "\n",
    "def _get_links(html):\n",
    "    urlArray = []\n",
    "    soup = BeautifulSoup(html, 'lxml')\n",
    "    links = soup.find_all('div', class_='archiverecipe')#get all links\n",
    "    for individual in links:\n",
    "        href = individual.find('a')['href']\n",
    "        urlArray.append(href)\n",
    "        print(href)\n",
    "        break\n",
    "\n",
    "def _get_data(html): \n",
    "    soup = BeautifulSoup(html, 'lxml')\n",
    "    #name\n",
    "    try:\n",
    "        name = soup.find('h1', class_='typog-headline4___Alhic').find('span').text\n",
    "    except:\n",
    "        name = ''\n",
    "    # difficulty\n",
    "    try:\n",
    "        difficulty = soup.find_all('div', class_='typog-bodycopySmall___DIQrd value___1j1Hl')[4].find('div').text\n",
    "    except:\n",
    "        difficulty = ''\n",
    "    try:\n",
    "        preptime = soup.find_all('div', class_='typog-bodycopySmall___DIQrd value___1j1Hl')[1].find('div').text\n",
    "    except:\n",
    "        preptime = ''\n",
    "    data = {'recipe_id' : '',\n",
    "        'recipe_name' : name,\n",
    "        'average_rating': '',\n",
    "        'stars_shown' : '',\n",
    "        'votes' : '',\n",
    "        'difficulty' : difficulty,\n",
    "        'preparation_time' : preptime,\n",
    "        'has_picture' : '',\n",
    "        'date' : '',\n",
    "        'link' : ''}\n",
    "    _write_to_recipes(data)\n",
    "\n",
    "_get_links(_get_html('https://www.101cookbooks.com/archives.html'))"
   ]
  },
  {
   "cell_type": "code",
   "execution_count": 35,
   "metadata": {},
   "outputs": [
    {
     "name": "stdout",
     "output_type": "stream",
     "text": [
      "Everything Home Fries\n"
     ]
    },
    {
     "data": {
      "text/plain": [
       "'Preheat oven to 450 degrees.\\nPlace the potato wedges, 3 tablespoons of olive oil and salt and pepper in a zip top bag and shake to combine. Transfer the potatoes a parchment lined baking sheet and evenly spread out the wedges. Transfer to the oven and bake for 30-35 minutes, flipping once, until evenly baked and golden brown. About 10 minutes before they are done, sprinkle with the This Is Everything seasoning, and toss to coat. Rearrange the fries on the baking sheet and finish roasting.\\nTaste and season with extra salt and pepper as needed\\nServe with all the ketchup for dunking.'"
      ]
     },
     "execution_count": 35,
     "metadata": {},
     "output_type": "execute_result"
    }
   ],
   "source": [
    "from recipe_scrapers import scrap_me\n",
    "\n",
    "# give the url as a string, it can be url from any site listed below\n",
    "scrap_me = scrap_me('https://whatsgabycooking.com/everything-home-fries/')\n",
    "\n",
    "print(scrap_me.title())\n",
    "scrap_me.total_time()\n",
    "scrap_me.ingredients()\n",
    "scrap_me.instructions()"
   ]
  },
  {
   "cell_type": "code",
   "execution_count": null,
   "metadata": {},
   "outputs": [],
   "source": [
    "start_time = time()\n",
    "\n",
    "\n",
    "'''\n",
    "all_links = _get_links(_get_html('https://www.weightwatchers.com/us/recipe'))\n",
    "(_get_html(all_links[5]))\n",
    "\n",
    "for link in range(3,len(all_links)):\n",
    "    sub = _get_links(_get_html(all_links[link]))\n",
    "    for individual in sub:\n",
    "        _get_data(_get_html(individual))\n",
    "    #print(len(_get_images(_get_html(link))))\n",
    "'''\n",
    "\n",
    "print(\"--- %s seconds ---\" % (time() - start_time))"
   ]
  }
 ],
 "metadata": {
  "kernelspec": {
   "display_name": "Python 3",
   "language": "python",
   "name": "python3"
  },
  "language_info": {
   "codemirror_mode": {
    "name": "ipython",
    "version": 3
   },
   "file_extension": ".py",
   "mimetype": "text/x-python",
   "name": "python",
   "nbconvert_exporter": "python",
   "pygments_lexer": "ipython3",
   "version": "3.7.3"
  }
 },
 "nbformat": 4,
 "nbformat_minor": 2
}
